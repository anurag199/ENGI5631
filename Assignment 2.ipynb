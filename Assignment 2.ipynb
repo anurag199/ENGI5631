{
 "cells": [
  {
   "cell_type": "markdown",
   "metadata": {},
   "source": [
    "# Assignment 2 Image Processing"
   ]
  },
  {
   "cell_type": "markdown",
   "metadata": {},
   "source": [
    "# 1 Screenshot for image rendering with different clip limit is provided in email"
   ]
  },
  {
   "cell_type": "markdown",
   "metadata": {},
   "source": [
    "# 2 Providing the syntax, parameters and a brief explanation of the function equalize_hist"
   ]
  },
  {
   "cell_type": "markdown",
   "metadata": {},
   "source": [
    "syntax: img_eq = exposure.equalize_hist(brainpicarray)\n",
    "\n",
    "parameter: brainpicarray\n",
    "\n",
    "explanation: It takes histogram of whole image. It won't work good in places where there is large intensity variations where both bright and dark pixels are present in image."
   ]
  },
  {
   "cell_type": "markdown",
   "metadata": {},
   "source": [
    "# 3  Providing the syntax, parameters and a brief explanation of the function equalize_adapthist"
   ]
  },
  {
   "cell_type": "markdown",
   "metadata": {},
   "source": [
    "syntax: img_adapteq = exposure.equalize_adapthist(brainpicarray, clip_limit=1.18)\n",
    "\n",
    "parameter: brainpicarray, clip_limit=1.18\n",
    "\n",
    "explanation: It divides the image in small parts. It takes histogram of all small parts separately and if the color contrast is proper in some of the parts it does not equalizes that small part. Hence it is most appropriate function to choose for the equalization."
   ]
  },
  {
   "cell_type": "markdown",
   "metadata": {},
   "source": [
    "# 4 Usage of adaptive histogram equalization vs standard histogram equalization? Which one was more useful in the Notebook for you to notice details in the anatomy?\n"
   ]
  },
  {
   "cell_type": "markdown",
   "metadata": {},
   "source": [
    "The usage of adaptive equalization is prefered more then standard histogram equalization when the region of equalization is restricted as standard histogram equalization equalizes whole image rather then confined region so a lot of data loss is occured due to over brightness.\n",
    "\n",
    "Adaptive equalization was more useful in the notebook for me to notice details in the anatomy. As it limits the range of the output image so that you don't get big outliers. In essence, it clips values if they get too huge. Whereas, standard histogram equalization is worthless because it uses the histogram of the whole image and this causes data loss if some part of the image is already bright and this function over brightens it."
   ]
  },
  {
   "cell_type": "code",
   "execution_count": null,
   "metadata": {
    "collapsed": true
   },
   "outputs": [],
   "source": []
  }
 ],
 "metadata": {
  "kernelspec": {
   "display_name": "Python 2",
   "language": "python",
   "name": "python2"
  },
  "language_info": {
   "codemirror_mode": {
    "name": "ipython",
    "version": 2
   },
   "file_extension": ".py",
   "mimetype": "text/x-python",
   "name": "python",
   "nbconvert_exporter": "python",
   "pygments_lexer": "ipython2",
   "version": "2.7.13"
  }
 },
 "nbformat": 4,
 "nbformat_minor": 2
}
