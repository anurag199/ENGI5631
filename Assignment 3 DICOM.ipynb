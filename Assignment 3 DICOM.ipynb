{
 "cells": [
  {
   "cell_type": "markdown",
   "metadata": {},
   "source": [
    "# 1 Jupyter notebook snapshot provided in email"
   ]
  },
  {
   "cell_type": "markdown",
   "metadata": {},
   "source": [
    "# 2 DICOM reading"
   ]
  },
  {
   "cell_type": "markdown",
   "metadata": {},
   "source": [
    "# Question 1"
   ]
  },
  {
   "cell_type": "markdown",
   "metadata": {},
   "source": [
    "# Find and download a free DICOM viewer and provide the name"
   ]
  },
  {
   "cell_type": "markdown",
   "metadata": {},
   "source": [
    "Name of the free DICOM viewer found is MicroDicom viewer (64 bit) version 2.2.5"
   ]
  },
  {
   "cell_type": "markdown",
   "metadata": {},
   "source": [
    "# Question 2 & 3 snapshot provided in email"
   ]
  },
  {
   "cell_type": "markdown",
   "metadata": {},
   "source": [
    "# Question 4"
   ]
  },
  {
   "cell_type": "markdown",
   "metadata": {},
   "source": [
    "# For Image im140"
   ]
  },
  {
   "cell_type": "markdown",
   "metadata": {},
   "source": [
    "## What is the vendor of the device used ?"
   ]
  },
  {
   "cell_type": "markdown",
   "metadata": {},
   "source": [
    "The vendor of the device used is GE Medical System and the model is LightSpeed VCT"
   ]
  },
  {
   "cell_type": "markdown",
   "metadata": {},
   "source": [
    "## Which image modality was done ?"
   ]
  },
  {
   "cell_type": "markdown",
   "metadata": {},
   "source": [
    "Image modality done was CT"
   ]
  },
  {
   "cell_type": "markdown",
   "metadata": {},
   "source": [
    "## What is the name of the patient ?"
   ]
  },
  {
   "cell_type": "markdown",
   "metadata": {},
   "source": [
    "The name of patient is not given because of privacy of the volunteer so name is not mentioned in dicom image"
   ]
  },
  {
   "cell_type": "markdown",
   "metadata": {},
   "source": [
    "## How many bits were used for encoding ?"
   ]
  },
  {
   "cell_type": "markdown",
   "metadata": {},
   "source": [
    "16 bits were used for encoding"
   ]
  },
  {
   "cell_type": "markdown",
   "metadata": {},
   "source": [
    "# For Image IM_0028"
   ]
  },
  {
   "cell_type": "markdown",
   "metadata": {},
   "source": [
    "## What is the vendor of the device used ?"
   ]
  },
  {
   "cell_type": "markdown",
   "metadata": {},
   "source": [
    "The vendor of the device used is Philips Medical System and the model is Achieva"
   ]
  },
  {
   "cell_type": "markdown",
   "metadata": {},
   "source": [
    "## Which image modality was done ?"
   ]
  },
  {
   "cell_type": "markdown",
   "metadata": {},
   "source": [
    "Image modality done was MR"
   ]
  },
  {
   "cell_type": "markdown",
   "metadata": {},
   "source": [
    "##  What is the name of the patient ?"
   ]
  },
  {
   "cell_type": "markdown",
   "metadata": {},
   "source": [
    "The name of patient is not given because of privacy of the volunteer so name is not mentioned in dicom image"
   ]
  },
  {
   "cell_type": "markdown",
   "metadata": {},
   "source": [
    "##  How many bits were used for encoding ?"
   ]
  },
  {
   "cell_type": "markdown",
   "metadata": {},
   "source": [
    "12 bits were used for encoding"
   ]
  },
  {
   "cell_type": "markdown",
   "metadata": {},
   "source": [
    "## For IM0028 there are three attributes related to scaling in the image.  Give the name of those attributes"
   ]
  },
  {
   "cell_type": "markdown",
   "metadata": {},
   "source": [
    "Three attributes related to scaling are :-\n",
    "\n",
    "1)Rescale Intercept\n",
    "\n",
    "2)Rescale Slope\n",
    "\n",
    "3)Rescale Type"
   ]
  },
  {
   "cell_type": "markdown",
   "metadata": {},
   "source": [
    "##   There  are  5  attributes  that  allow  to  define  the  direction  of  the  image  with  respect  to the patient body:  Pixel Spacing, Image Orientation, Image Position, Slice Thickness and Slice Location.  Give the name of the attributes from the DICOM header and describe in your own words how they describe the geometry of a patient."
   ]
  },
  {
   "cell_type": "markdown",
   "metadata": {},
   "source": [
    "Pixel Spacing :-\n",
    "\n",
    "This attribute identifies physical distance in the patients body between the center of each pixel.\n",
    "\n",
    "Image Orientation :-\n",
    "\n",
    "This attribute identifies the direction of cosines of the first row and first column with respect to the patient body.\n",
    "\n",
    "Image Position :-\n",
    "\n",
    "This attribute identifies the x,y and z co-ordinates of the upper left hand side corner image of the patients body.\n",
    "\n",
    "Slice Thickness :-\n",
    "\n",
    "This attribute provides supposed slice thickness in millimeters.\n",
    "\n",
    "Slice Location :-\n",
    "\n",
    "This attribute provides the respective position of image plane in millimeters."
   ]
  },
  {
   "cell_type": "markdown",
   "metadata": {},
   "source": [
    "##  For im140 investigate how can you convert the image information into actual bone density information."
   ]
  },
  {
   "cell_type": "markdown",
   "metadata": {},
   "source": [
    "To convert the image information into actual bone density information, We can utilize the provided CT information of the im140 file and acquire QCT image by aiming on specific region of the image. A 3D method acquired by a CT scanner that gives real bone density by finding low bone mass is known as QCT.\n",
    "\n",
    "For getting actual bone density information we can download an open source software of medical image management system which can specify,download and post process CT images and then randomly choose from samples and process the sample by itself to calculate actual bone density."
   ]
  }
 ],
 "metadata": {
  "kernelspec": {
   "display_name": "Python 2",
   "language": "python",
   "name": "python2"
  },
  "language_info": {
   "codemirror_mode": {
    "name": "ipython",
    "version": 2
   },
   "file_extension": ".py",
   "mimetype": "text/x-python",
   "name": "python",
   "nbconvert_exporter": "python",
   "pygments_lexer": "ipython2",
   "version": "2.7.13"
  }
 },
 "nbformat": 4,
 "nbformat_minor": 2
}
